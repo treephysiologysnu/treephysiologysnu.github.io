{
 "cells": [
  {
   "cell_type": "markdown",
   "metadata": {},
   "source": [
    "다음과 같이 .htaccess 파일 설정\n",
    "~~~js\n",
    "AuthName \"TP\"\n",
    "AuthType Basic\n",
    "AuthUserFile /var/www/html/TMK/.htpasswd\n",
    "AuthGroupFile /dev/null\n",
    "<Limit GET POST>\n",
    "require valid-user\n",
    "</Limit>\n",
    "~~~\n",
    "처음 사용자 생성은 아래와 같이:\n",
    "~~~sh\n",
    "htpasswd -c .htpasswd TP\n",
    "~~~\n",
    "`-c` 옵션은 기존 사용자를 모두 없애고 신규파일을 생성하는 것!"
   ]
  }
 ],
 "metadata": {
  "kernelspec": {
   "display_name": "Python 3",
   "language": "python",
   "name": "python3"
  },
  "language_info": {
   "codemirror_mode": {
    "name": "ipython",
    "version": 3
   },
   "file_extension": ".py",
   "mimetype": "text/x-python",
   "name": "python",
   "nbconvert_exporter": "python",
   "pygments_lexer": "ipython3",
   "version": "3.6.5"
  }
 },
 "nbformat": 4,
 "nbformat_minor": 2
}
