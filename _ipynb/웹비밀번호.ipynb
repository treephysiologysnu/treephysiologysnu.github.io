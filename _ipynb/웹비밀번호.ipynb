{
 "cells": [
  {
   "cell_type": "markdown",
   "metadata": {},
   "source": [
    "# 웹페이지 비밀번호 설정하기\n",
    "\n",
    "### .htaccess 설정하기\n",
    "다음과 같이 .htaccess 파일 설정\n",
    "\n",
    "~~~sh\n",
    "AuthName \"TP\" # 사용할 아이디\n",
    "AuthType Basic\n",
    "AuthUserFile /var/www/html/TMK/.htpasswd #.htpasswd 파일 경로\n",
    "AuthGroupFile /dev/null\n",
    "<Limit GET POST>\n",
    "require valid-user\n",
    "</Limit>\n",
    "~~~\n",
    "\n",
    "<br>\n",
    "<br>\n",
    "### .htpasswd 생성하기\n",
    "처음 사용자 생성은 아래와 같이:\n",
    "~~~sh\n",
    "htpasswd -c .htpasswd TP\n",
    "~~~\n",
    "`-c` 옵션은 기존 사용자를 모두 없애고 신규파일을 생성하는 것!\n",
    "\n",
    "\n",
    "<br>\n",
    "<br>\n",
    "### 아파치 로그 확인하기\n",
    "우분투의 경우에는 `/var/log/apache2/` 여기 디렉토리에 있을 확률이 높다고 한다.\n",
    "\n",
    "<br>\n",
    "<br>\n",
    "---\n",
    "### References\n",
    "- https://idchowto.com/?p=2249\n",
    "- https://unikys.tistory.com/248"
   ]
  },
  {
   "cell_type": "code",
   "execution_count": null,
   "metadata": {},
   "outputs": [],
   "source": []
  }
 ],
 "metadata": {
  "kernelspec": {
   "display_name": "Python 3",
   "language": "python",
   "name": "python3"
  },
  "language_info": {
   "codemirror_mode": {
    "name": "ipython",
    "version": 3
   },
   "file_extension": ".py",
   "mimetype": "text/x-python",
   "name": "python",
   "nbconvert_exporter": "python",
   "pygments_lexer": "ipython3",
   "version": "3.6.5"
  }
 },
 "nbformat": 4,
 "nbformat_minor": 2
}
