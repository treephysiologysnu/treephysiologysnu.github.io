{
 "cells": [
  {
   "cell_type": "markdown",
   "metadata": {},
   "source": [
    "<!--내가 이 세계에 머물 수 있는 시간이 그리 많지 않음을 명심할 것.-->\n",
    "인터넷 글이라는 것의 특징을 잘 기억할 것.\n",
    "- 반드시 간결해야 하고\n",
    "- 정보는 정확해야 하고\n",
    "- 목적 & 해결 뚜렷해야\n",
    "\n",
    "그렇다면\n",
    "- 논리의 흐름을 만들고\n",
    "- 리스트를 만들고\n",
    "- 순차적으로 읽어나갔을 때 그대로 따라갈 수 있도록\n",
    "- 자세히 설명하되(branching)\n",
    "- 기존의 Stem은 그대로 유지하기\n",
    "\n",
    "오른쪽에 따라다니는 글 목차 or 순서 hovering\n",
    "적절한 크기의 사진은 언제나 좋다."
   ]
  }
 ],
 "metadata": {
  "kernelspec": {
   "display_name": "Python 3",
   "language": "python",
   "name": "python3"
  },
  "language_info": {
   "codemirror_mode": {
    "name": "ipython",
    "version": 3
   },
   "file_extension": ".py",
   "mimetype": "text/x-python",
   "name": "python",
   "nbconvert_exporter": "python",
   "pygments_lexer": "ipython3",
   "version": "3.6.5"
  }
 },
 "nbformat": 4,
 "nbformat_minor": 2
}
