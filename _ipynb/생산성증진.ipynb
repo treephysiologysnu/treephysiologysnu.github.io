{
 "cells": [
  {
   "cell_type": "markdown",
   "metadata": {},
   "source": [
    "# 생산성 증진에 관한 정리\n",
    "\n",
    "---"
   ]
  },
  {
   "cell_type": "markdown",
   "metadata": {},
   "source": [
    "<img src=\"./img/screenshot-jupyter-onenote.png\" width=\"900\">\n",
    "<br>\n",
    "기본적으로 위와 같이 화면을 놓고 쓴다. 아니면 중간에 아이패드를 놓고 거기에는 원노트만 관리? TODO 리스트 보기 위해서?\n",
    "\n",
    "특히 Onenote에서 TODO 리스트를 관리하는 것이 중요하다."
   ]
  }
 ],
 "metadata": {
  "kernelspec": {
   "display_name": "Python 3",
   "language": "python",
   "name": "python3"
  },
  "language_info": {
   "codemirror_mode": {
    "name": "ipython",
    "version": 3
   },
   "file_extension": ".py",
   "mimetype": "text/x-python",
   "name": "python",
   "nbconvert_exporter": "python",
   "pygments_lexer": "ipython3",
   "version": "3.6.5"
  }
 },
 "nbformat": 4,
 "nbformat_minor": 2
}
